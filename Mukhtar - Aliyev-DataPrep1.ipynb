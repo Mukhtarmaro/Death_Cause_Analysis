{
 "cells": [
  {
   "cell_type": "code",
   "execution_count": 19,
   "metadata": {},
   "outputs": [],
   "source": [
    "import pandas as pd\n",
    "import numpy as np\n",
    "import matplotlib.pyplot as plt \n",
    "import seaborn as sns\n",
    "%matplotlib inline"
   ]
  },
  {
   "cell_type": "code",
   "execution_count": 20,
   "metadata": {},
   "outputs": [
    {
     "data": {
      "text/html": [
       "<div>\n",
       "<style scoped>\n",
       "    .dataframe tbody tr th:only-of-type {\n",
       "        vertical-align: middle;\n",
       "    }\n",
       "\n",
       "    .dataframe tbody tr th {\n",
       "        vertical-align: top;\n",
       "    }\n",
       "\n",
       "    .dataframe thead th {\n",
       "        text-align: right;\n",
       "    }\n",
       "</style>\n",
       "<table border=\"1\" class=\"dataframe\">\n",
       "  <thead>\n",
       "    <tr style=\"text-align: right;\">\n",
       "      <th></th>\n",
       "      <th>Year</th>\n",
       "      <th>113 Cause Name</th>\n",
       "      <th>Cause Name</th>\n",
       "      <th>State</th>\n",
       "      <th>Deaths</th>\n",
       "      <th>Age-adjusted Death Rate</th>\n",
       "    </tr>\n",
       "  </thead>\n",
       "  <tbody>\n",
       "    <tr>\n",
       "      <th>0</th>\n",
       "      <td>1999</td>\n",
       "      <td>Accidents (unintentional injuries) (V01-X59,Y8...</td>\n",
       "      <td>Unintentional Injuries</td>\n",
       "      <td>Alabama</td>\n",
       "      <td>2313.0</td>\n",
       "      <td>52.2</td>\n",
       "    </tr>\n",
       "    <tr>\n",
       "      <th>1</th>\n",
       "      <td>1999</td>\n",
       "      <td>Accidents (unintentional injuries) (V01-X59,Y8...</td>\n",
       "      <td>Unintentional Injuries</td>\n",
       "      <td>Alaska</td>\n",
       "      <td>294.0</td>\n",
       "      <td>55.9</td>\n",
       "    </tr>\n",
       "    <tr>\n",
       "      <th>2</th>\n",
       "      <td>1999</td>\n",
       "      <td>Accidents (unintentional injuries) (V01-X59,Y8...</td>\n",
       "      <td>Unintentional Injuries</td>\n",
       "      <td>Arizona</td>\n",
       "      <td>2214.0</td>\n",
       "      <td>44.8</td>\n",
       "    </tr>\n",
       "    <tr>\n",
       "      <th>3</th>\n",
       "      <td>1999</td>\n",
       "      <td>Accidents (unintentional injuries) (V01-X59,Y8...</td>\n",
       "      <td>Unintentional Injuries</td>\n",
       "      <td>Arkansas</td>\n",
       "      <td>1287.0</td>\n",
       "      <td>47.6</td>\n",
       "    </tr>\n",
       "    <tr>\n",
       "      <th>4</th>\n",
       "      <td>1999</td>\n",
       "      <td>Accidents (unintentional injuries) (V01-X59,Y8...</td>\n",
       "      <td>Unintentional Injuries</td>\n",
       "      <td>California</td>\n",
       "      <td>9198.0</td>\n",
       "      <td>28.7</td>\n",
       "    </tr>\n",
       "  </tbody>\n",
       "</table>\n",
       "</div>"
      ],
      "text/plain": [
       "   Year                                     113 Cause Name  \\\n",
       "0  1999  Accidents (unintentional injuries) (V01-X59,Y8...   \n",
       "1  1999  Accidents (unintentional injuries) (V01-X59,Y8...   \n",
       "2  1999  Accidents (unintentional injuries) (V01-X59,Y8...   \n",
       "3  1999  Accidents (unintentional injuries) (V01-X59,Y8...   \n",
       "4  1999  Accidents (unintentional injuries) (V01-X59,Y8...   \n",
       "\n",
       "               Cause Name       State  Deaths  Age-adjusted Death Rate  \n",
       "0  Unintentional Injuries     Alabama  2313.0                     52.2  \n",
       "1  Unintentional Injuries      Alaska   294.0                     55.9  \n",
       "2  Unintentional Injuries     Arizona  2214.0                     44.8  \n",
       "3  Unintentional Injuries    Arkansas  1287.0                     47.6  \n",
       "4  Unintentional Injuries  California  9198.0                     28.7  "
      ]
     },
     "execution_count": 20,
     "metadata": {},
     "output_type": "execute_result"
    }
   ],
   "source": [
    "df=pd.read_csv('C:/Users/unix/Desktop/Data Science/Python/NCHS.csv')\n",
    "df.head()"
   ]
  },
  {
   "cell_type": "code",
   "execution_count": 21,
   "metadata": {},
   "outputs": [
    {
     "data": {
      "text/html": [
       "<div>\n",
       "<style scoped>\n",
       "    .dataframe tbody tr th:only-of-type {\n",
       "        vertical-align: middle;\n",
       "    }\n",
       "\n",
       "    .dataframe tbody tr th {\n",
       "        vertical-align: top;\n",
       "    }\n",
       "\n",
       "    .dataframe thead th {\n",
       "        text-align: right;\n",
       "    }\n",
       "</style>\n",
       "<table border=\"1\" class=\"dataframe\">\n",
       "  <thead>\n",
       "    <tr style=\"text-align: right;\">\n",
       "      <th></th>\n",
       "      <th>Year</th>\n",
       "      <th>113 Cause Name</th>\n",
       "      <th>Cause Name</th>\n",
       "      <th>State</th>\n",
       "      <th>Deaths</th>\n",
       "      <th>Age-adjusted Death Rate</th>\n",
       "    </tr>\n",
       "  </thead>\n",
       "  <tbody>\n",
       "    <tr>\n",
       "      <th>15023</th>\n",
       "      <td>2015</td>\n",
       "      <td>Septicemia (A40-A41)</td>\n",
       "      <td>Septicemia</td>\n",
       "      <td>Virginia</td>\n",
       "      <td>1187.0</td>\n",
       "      <td>13.0</td>\n",
       "    </tr>\n",
       "    <tr>\n",
       "      <th>15024</th>\n",
       "      <td>2015</td>\n",
       "      <td>Septicemia (A40-A41)</td>\n",
       "      <td>Septicemia</td>\n",
       "      <td>Washington</td>\n",
       "      <td>501.0</td>\n",
       "      <td>6.3</td>\n",
       "    </tr>\n",
       "    <tr>\n",
       "      <th>15025</th>\n",
       "      <td>2015</td>\n",
       "      <td>Septicemia (A40-A41)</td>\n",
       "      <td>Septicemia</td>\n",
       "      <td>West Virginia</td>\n",
       "      <td>348.0</td>\n",
       "      <td>13.9</td>\n",
       "    </tr>\n",
       "    <tr>\n",
       "      <th>15026</th>\n",
       "      <td>2015</td>\n",
       "      <td>Septicemia (A40-A41)</td>\n",
       "      <td>Septicemia</td>\n",
       "      <td>Wisconsin</td>\n",
       "      <td>517.0</td>\n",
       "      <td>7.2</td>\n",
       "    </tr>\n",
       "    <tr>\n",
       "      <th>15027</th>\n",
       "      <td>2015</td>\n",
       "      <td>Septicemia (A40-A41)</td>\n",
       "      <td>Septicemia</td>\n",
       "      <td>Wyoming</td>\n",
       "      <td>46.0</td>\n",
       "      <td>7.1</td>\n",
       "    </tr>\n",
       "  </tbody>\n",
       "</table>\n",
       "</div>"
      ],
      "text/plain": [
       "       Year        113 Cause Name  Cause Name          State  Deaths  \\\n",
       "15023  2015  Septicemia (A40-A41)  Septicemia       Virginia  1187.0   \n",
       "15024  2015  Septicemia (A40-A41)  Septicemia     Washington   501.0   \n",
       "15025  2015  Septicemia (A40-A41)  Septicemia  West Virginia   348.0   \n",
       "15026  2015  Septicemia (A40-A41)  Septicemia      Wisconsin   517.0   \n",
       "15027  2015  Septicemia (A40-A41)  Septicemia        Wyoming    46.0   \n",
       "\n",
       "       Age-adjusted Death Rate  \n",
       "15023                     13.0  \n",
       "15024                      6.3  \n",
       "15025                     13.9  \n",
       "15026                      7.2  \n",
       "15027                      7.1  "
      ]
     },
     "execution_count": 21,
     "metadata": {},
     "output_type": "execute_result"
    }
   ],
   "source": [
    "df.tail()"
   ]
  },
  {
   "cell_type": "code",
   "execution_count": 22,
   "metadata": {},
   "outputs": [
    {
     "name": "stdout",
     "output_type": "stream",
     "text": [
      "<class 'pandas.core.frame.DataFrame'>\n",
      "RangeIndex: 15028 entries, 0 to 15027\n",
      "Data columns (total 6 columns):\n",
      " #   Column                   Non-Null Count  Dtype  \n",
      "---  ------                   --------------  -----  \n",
      " 0   Year                     15028 non-null  int64  \n",
      " 1   113 Cause Name           15028 non-null  object \n",
      " 2   Cause Name               15028 non-null  object \n",
      " 3   State                    15028 non-null  object \n",
      " 4   Deaths                   15013 non-null  float64\n",
      " 5   Age-adjusted Death Rate  14917 non-null  float64\n",
      "dtypes: float64(2), int64(1), object(3)\n",
      "memory usage: 704.6+ KB\n"
     ]
    }
   ],
   "source": [
    "df.info()"
   ]
  },
  {
   "cell_type": "code",
   "execution_count": 23,
   "metadata": {},
   "outputs": [
    {
     "data": {
      "text/html": [
       "<div>\n",
       "<style scoped>\n",
       "    .dataframe tbody tr th:only-of-type {\n",
       "        vertical-align: middle;\n",
       "    }\n",
       "\n",
       "    .dataframe tbody tr th {\n",
       "        vertical-align: top;\n",
       "    }\n",
       "\n",
       "    .dataframe thead th {\n",
       "        text-align: right;\n",
       "    }\n",
       "</style>\n",
       "<table border=\"1\" class=\"dataframe\">\n",
       "  <thead>\n",
       "    <tr style=\"text-align: right;\">\n",
       "      <th></th>\n",
       "      <th>Year</th>\n",
       "      <th>Deaths</th>\n",
       "      <th>Age-adjusted Death Rate</th>\n",
       "    </tr>\n",
       "  </thead>\n",
       "  <tbody>\n",
       "    <tr>\n",
       "      <th>count</th>\n",
       "      <td>15028.000000</td>\n",
       "      <td>1.501300e+04</td>\n",
       "      <td>14917.000000</td>\n",
       "    </tr>\n",
       "    <tr>\n",
       "      <th>mean</th>\n",
       "      <td>2007.000000</td>\n",
       "      <td>1.023261e+04</td>\n",
       "      <td>86.526393</td>\n",
       "    </tr>\n",
       "    <tr>\n",
       "      <th>std</th>\n",
       "      <td>4.899142</td>\n",
       "      <td>9.003261e+04</td>\n",
       "      <td>190.764950</td>\n",
       "    </tr>\n",
       "    <tr>\n",
       "      <th>min</th>\n",
       "      <td>1999.000000</td>\n",
       "      <td>1.000000e+01</td>\n",
       "      <td>1.300000</td>\n",
       "    </tr>\n",
       "    <tr>\n",
       "      <th>25%</th>\n",
       "      <td>2003.000000</td>\n",
       "      <td>2.940000e+02</td>\n",
       "      <td>8.300000</td>\n",
       "    </tr>\n",
       "    <tr>\n",
       "      <th>50%</th>\n",
       "      <td>2007.000000</td>\n",
       "      <td>8.380000e+02</td>\n",
       "      <td>18.900000</td>\n",
       "    </tr>\n",
       "    <tr>\n",
       "      <th>75%</th>\n",
       "      <td>2011.000000</td>\n",
       "      <td>2.737000e+03</td>\n",
       "      <td>46.300000</td>\n",
       "    </tr>\n",
       "    <tr>\n",
       "      <th>max</th>\n",
       "      <td>2015.000000</td>\n",
       "      <td>2.712630e+06</td>\n",
       "      <td>1087.300000</td>\n",
       "    </tr>\n",
       "  </tbody>\n",
       "</table>\n",
       "</div>"
      ],
      "text/plain": [
       "               Year        Deaths  Age-adjusted Death Rate\n",
       "count  15028.000000  1.501300e+04             14917.000000\n",
       "mean    2007.000000  1.023261e+04                86.526393\n",
       "std        4.899142  9.003261e+04               190.764950\n",
       "min     1999.000000  1.000000e+01                 1.300000\n",
       "25%     2003.000000  2.940000e+02                 8.300000\n",
       "50%     2007.000000  8.380000e+02                18.900000\n",
       "75%     2011.000000  2.737000e+03                46.300000\n",
       "max     2015.000000  2.712630e+06              1087.300000"
      ]
     },
     "execution_count": 23,
     "metadata": {},
     "output_type": "execute_result"
    }
   ],
   "source": [
    "df.describe()"
   ]
  },
  {
   "cell_type": "code",
   "execution_count": 24,
   "metadata": {},
   "outputs": [],
   "source": [
    "df.drop(df[df['Cause Name']=='All Causes'].index,inplace=True)"
   ]
  },
  {
   "cell_type": "code",
   "execution_count": 25,
   "metadata": {},
   "outputs": [
    {
     "data": {
      "text/plain": [
       "(14144, 6)"
      ]
     },
     "execution_count": 25,
     "metadata": {},
     "output_type": "execute_result"
    }
   ],
   "source": [
    "df.shape"
   ]
  },
  {
   "cell_type": "code",
   "execution_count": 26,
   "metadata": {},
   "outputs": [
    {
     "data": {
      "text/plain": [
       "array(['Unintentional Injuries', \"Alzheimer's disease\", 'Homicide',\n",
       "       'Stroke', 'Chronic liver disease and cirrhosis', 'CLRD',\n",
       "       'Diabetes', 'Diseases of Heart',\n",
       "       'Essential hypertension and hypertensive renal disease',\n",
       "       'Influenza and pneumonia', 'Cancer', 'Suicide', 'Kidney Disease',\n",
       "       \"Parkinson's disease\", 'Pneumonitis due to solids and liquids',\n",
       "       'Septicemia'], dtype=object)"
      ]
     },
     "execution_count": 26,
     "metadata": {},
     "output_type": "execute_result"
    }
   ],
   "source": [
    "df['Cause Name'].unique()"
   ]
  },
  {
   "cell_type": "code",
   "execution_count": 27,
   "metadata": {},
   "outputs": [],
   "source": [
    "df.dropna(inplace=True)"
   ]
  },
  {
   "cell_type": "code",
   "execution_count": 28,
   "metadata": {},
   "outputs": [
    {
     "data": {
      "text/plain": [
       "(14033, 6)"
      ]
     },
     "execution_count": 28,
     "metadata": {},
     "output_type": "execute_result"
    }
   ],
   "source": [
    "df.shape"
   ]
  },
  {
   "cell_type": "code",
   "execution_count": 29,
   "metadata": {},
   "outputs": [
    {
     "data": {
      "text/plain": [
       "<AxesSubplot:>"
      ]
     },
     "execution_count": 29,
     "metadata": {},
     "output_type": "execute_result"
    },
    {
     "data": {
      "image/png": "[encoded data removed]",
      "text/plain": [
       "<Figure size 432x288 with 1 Axes>"
      ]
     },
     "metadata": {
      "needs_background": "light"
     },
     "output_type": "display_data"
    }
   ],
   "source": [
    "sns.heatmap(df.isnull(),yticklabels=False,cbar=False,cmap='viridis')"
   ]
  },
  {
   "cell_type": "code",
   "execution_count": 30,
   "metadata": {},
   "outputs": [
    {
     "name": "stdout",
     "output_type": "stream",
     "text": [
      "The number of deaths in the United States from 1999 to 2015 is: Deaths    34640315.0\n",
      "dtype: float64\n"
     ]
    }
   ],
   "source": [
    "print('The number of deaths in the United States from 1999 to 2015 is:', df.loc[df['State'] == 'United States',['Deaths']].sum())"
   ]
  },
  {
   "cell_type": "code",
   "execution_count": 31,
   "metadata": {},
   "outputs": [
    {
     "data": {
      "text/html": [
       "<div>\n",
       "<style scoped>\n",
       "    .dataframe tbody tr th:only-of-type {\n",
       "        vertical-align: middle;\n",
       "    }\n",
       "\n",
       "    .dataframe tbody tr th {\n",
       "        vertical-align: top;\n",
       "    }\n",
       "\n",
       "    .dataframe thead th {\n",
       "        text-align: right;\n",
       "    }\n",
       "</style>\n",
       "<table border=\"1\" class=\"dataframe\">\n",
       "  <thead>\n",
       "    <tr style=\"text-align: right;\">\n",
       "      <th></th>\n",
       "      <th>Deaths</th>\n",
       "      <th>Age-adjusted Death Rate</th>\n",
       "    </tr>\n",
       "    <tr>\n",
       "      <th>Year</th>\n",
       "      <th></th>\n",
       "      <th></th>\n",
       "    </tr>\n",
       "  </thead>\n",
       "  <tbody>\n",
       "    <tr>\n",
       "      <th>1999</th>\n",
       "      <td>4052876.0</td>\n",
       "      <td>38550.3</td>\n",
       "    </tr>\n",
       "    <tr>\n",
       "      <th>2000</th>\n",
       "      <td>4054097.0</td>\n",
       "      <td>38136.3</td>\n",
       "    </tr>\n",
       "    <tr>\n",
       "      <th>2001</th>\n",
       "      <td>4063971.0</td>\n",
       "      <td>37645.3</td>\n",
       "    </tr>\n",
       "    <tr>\n",
       "      <th>2002</th>\n",
       "      <td>4104796.0</td>\n",
       "      <td>37503.0</td>\n",
       "    </tr>\n",
       "    <tr>\n",
       "      <th>2003</th>\n",
       "      <td>4097245.0</td>\n",
       "      <td>36904.3</td>\n",
       "    </tr>\n",
       "    <tr>\n",
       "      <th>2004</th>\n",
       "      <td>3999321.0</td>\n",
       "      <td>35359.7</td>\n",
       "    </tr>\n",
       "    <tr>\n",
       "      <th>2005</th>\n",
       "      <td>4062908.0</td>\n",
       "      <td>35368.7</td>\n",
       "    </tr>\n",
       "    <tr>\n",
       "      <th>2006</th>\n",
       "      <td>3990647.0</td>\n",
       "      <td>34113.0</td>\n",
       "    </tr>\n",
       "    <tr>\n",
       "      <th>2007</th>\n",
       "      <td>3979212.0</td>\n",
       "      <td>33405.3</td>\n",
       "    </tr>\n",
       "    <tr>\n",
       "      <th>2008</th>\n",
       "      <td>4038942.0</td>\n",
       "      <td>33270.1</td>\n",
       "    </tr>\n",
       "    <tr>\n",
       "      <th>2009</th>\n",
       "      <td>3967369.0</td>\n",
       "      <td>32052.5</td>\n",
       "    </tr>\n",
       "    <tr>\n",
       "      <th>2010</th>\n",
       "      <td>4001895.0</td>\n",
       "      <td>31929.8</td>\n",
       "    </tr>\n",
       "    <tr>\n",
       "      <th>2011</th>\n",
       "      <td>4048145.0</td>\n",
       "      <td>31522.9</td>\n",
       "    </tr>\n",
       "    <tr>\n",
       "      <th>2012</th>\n",
       "      <td>4069794.0</td>\n",
       "      <td>30965.9</td>\n",
       "    </tr>\n",
       "    <tr>\n",
       "      <th>2013</th>\n",
       "      <td>4151064.0</td>\n",
       "      <td>30930.9</td>\n",
       "    </tr>\n",
       "    <tr>\n",
       "      <th>2014</th>\n",
       "      <td>4213058.0</td>\n",
       "      <td>30862.1</td>\n",
       "    </tr>\n",
       "    <tr>\n",
       "      <th>2015</th>\n",
       "      <td>4383717.0</td>\n",
       "      <td>31496.7</td>\n",
       "    </tr>\n",
       "  </tbody>\n",
       "</table>\n",
       "</div>"
      ],
      "text/plain": [
       "         Deaths  Age-adjusted Death Rate\n",
       "Year                                    \n",
       "1999  4052876.0                  38550.3\n",
       "2000  4054097.0                  38136.3\n",
       "2001  4063971.0                  37645.3\n",
       "2002  4104796.0                  37503.0\n",
       "2003  4097245.0                  36904.3\n",
       "2004  3999321.0                  35359.7\n",
       "2005  4062908.0                  35368.7\n",
       "2006  3990647.0                  34113.0\n",
       "2007  3979212.0                  33405.3\n",
       "2008  4038942.0                  33270.1\n",
       "2009  3967369.0                  32052.5\n",
       "2010  4001895.0                  31929.8\n",
       "2011  4048145.0                  31522.9\n",
       "2012  4069794.0                  30965.9\n",
       "2013  4151064.0                  30930.9\n",
       "2014  4213058.0                  30862.1\n",
       "2015  4383717.0                  31496.7"
      ]
     },
     "execution_count": 31,
     "metadata": {},
     "output_type": "execute_result"
    }
   ],
   "source": [
    "a=df.groupby(['Year']).sum()\n",
    "a"
   ]
  },
  {
   "cell_type": "code",
   "execution_count": 32,
   "metadata": {},
   "outputs": [
    {
     "data": {
      "text/plain": [
       "Text(0, 0.5, 'Number of Deaths')"
      ]
     },
     "execution_count": 32,
     "metadata": {},
     "output_type": "execute_result"
    },
    {
     "data": {
      "image/png": "[encoded data removed]",
      "text/plain": [
       "<Figure size 432x288 with 1 Axes>"
      ]
     },
     "metadata": {
      "needs_background": "light"
     },
     "output_type": "display_data"
    }
   ],
   "source": [
    "a['Deaths'].plot()\n",
    "plt.ylabel('Number of Deaths')"
   ]
  },
  {
   "cell_type": "code",
   "execution_count": 33,
   "metadata": {},
   "outputs": [],
   "source": [
    "from matplotlib.pyplot import figure"
   ]
  },
  {
   "cell_type": "code",
   "execution_count": 41,
   "metadata": {},
   "outputs": [
    {
     "data": {
      "text/html": [
       "<div>\n",
       "<style scoped>\n",
       "    .dataframe tbody tr th:only-of-type {\n",
       "        vertical-align: middle;\n",
       "    }\n",
       "\n",
       "    .dataframe tbody tr th {\n",
       "        vertical-align: top;\n",
       "    }\n",
       "\n",
       "    .dataframe thead th {\n",
       "        text-align: right;\n",
       "    }\n",
       "</style>\n",
       "<table border=\"1\" class=\"dataframe\">\n",
       "  <thead>\n",
       "    <tr style=\"text-align: right;\">\n",
       "      <th></th>\n",
       "      <th>Year</th>\n",
       "      <th>Deaths</th>\n",
       "      <th>Age-adjusted Death Rate</th>\n",
       "    </tr>\n",
       "    <tr>\n",
       "      <th>State</th>\n",
       "      <th></th>\n",
       "      <th></th>\n",
       "      <th></th>\n",
       "    </tr>\n",
       "  </thead>\n",
       "  <tbody>\n",
       "    <tr>\n",
       "      <th>California</th>\n",
       "      <td>545904</td>\n",
       "      <td>3422459.0</td>\n",
       "      <td>10101.2</td>\n",
       "    </tr>\n",
       "    <tr>\n",
       "      <th>Florida</th>\n",
       "      <td>545904</td>\n",
       "      <td>2397507.0</td>\n",
       "      <td>10156.8</td>\n",
       "    </tr>\n",
       "    <tr>\n",
       "      <th>Texas</th>\n",
       "      <td>545904</td>\n",
       "      <td>2270961.0</td>\n",
       "      <td>11339.7</td>\n",
       "    </tr>\n",
       "    <tr>\n",
       "      <th>New York</th>\n",
       "      <td>545904</td>\n",
       "      <td>2170019.0</td>\n",
       "      <td>10226.5</td>\n",
       "    </tr>\n",
       "    <tr>\n",
       "      <th>Pennsylvania</th>\n",
       "      <td>545904</td>\n",
       "      <td>1785982.0</td>\n",
       "      <td>11334.1</td>\n",
       "    </tr>\n",
       "    <tr>\n",
       "      <th>Ohio</th>\n",
       "      <td>545904</td>\n",
       "      <td>1529552.0</td>\n",
       "      <td>11931.3</td>\n",
       "    </tr>\n",
       "    <tr>\n",
       "      <th>Illinois</th>\n",
       "      <td>545904</td>\n",
       "      <td>1460489.0</td>\n",
       "      <td>11170.8</td>\n",
       "    </tr>\n",
       "    <tr>\n",
       "      <th>Michigan</th>\n",
       "      <td>545904</td>\n",
       "      <td>1248155.0</td>\n",
       "      <td>11645.7</td>\n",
       "    </tr>\n",
       "    <tr>\n",
       "      <th>North Carolina</th>\n",
       "      <td>545904</td>\n",
       "      <td>1063835.0</td>\n",
       "      <td>11737.3</td>\n",
       "    </tr>\n",
       "    <tr>\n",
       "      <th>New Jersey</th>\n",
       "      <td>545904</td>\n",
       "      <td>1003709.0</td>\n",
       "      <td>10446.7</td>\n",
       "    </tr>\n",
       "  </tbody>\n",
       "</table>\n",
       "</div>"
      ],
      "text/plain": [
       "                  Year     Deaths  Age-adjusted Death Rate\n",
       "State                                                     \n",
       "California      545904  3422459.0                  10101.2\n",
       "Florida         545904  2397507.0                  10156.8\n",
       "Texas           545904  2270961.0                  11339.7\n",
       "New York        545904  2170019.0                  10226.5\n",
       "Pennsylvania    545904  1785982.0                  11334.1\n",
       "Ohio            545904  1529552.0                  11931.3\n",
       "Illinois        545904  1460489.0                  11170.8\n",
       "Michigan        545904  1248155.0                  11645.7\n",
       "North Carolina  545904  1063835.0                  11737.3\n",
       "New Jersey      545904  1003709.0                  10446.7"
      ]
     },
     "execution_count": 41,
     "metadata": {},
     "output_type": "execute_result"
    }
   ],
   "source": [
    "a = df[df['State'] != 'United States']\n",
    "a1 = a.groupby(['State']).sum()\n",
    "a1.sort_values('Deaths',ascending =False, inplace =True)\n",
    "a1.head(10)"
   ]
  },
  {
   "cell_type": "code",
   "execution_count": 42,
   "metadata": {},
   "outputs": [
    {
     "data": {
      "text/plain": [
       "<AxesSubplot:title={'center':'Top 10 states with the highest deaths'}, xlabel='State'>"
      ]
     },
     "execution_count": 42,
     "metadata": {},
     "output_type": "execute_result"
    },
    {
     "data": {
      "image/png": "[encoded data removed]",
      "text/plain": [
       "<Figure size 432x288 with 1 Axes>"
      ]
     },
     "metadata": {
      "needs_background": "light"
     },
     "output_type": "display_data"
    }
   ],
   "source": [
    "a1['Deaths'].head(10).plot.bar(title = 'Top 10 states with the highest deaths')"
   ]
  },
  {
   "cell_type": "code",
   "execution_count": 43,
   "metadata": {},
   "outputs": [
    {
     "data": {
      "text/html": [
       "<div>\n",
       "<style scoped>\n",
       "    .dataframe tbody tr th:only-of-type {\n",
       "        vertical-align: middle;\n",
       "    }\n",
       "\n",
       "    .dataframe tbody tr th {\n",
       "        vertical-align: top;\n",
       "    }\n",
       "\n",
       "    .dataframe thead th {\n",
       "        text-align: right;\n",
       "    }\n",
       "</style>\n",
       "<table border=\"1\" class=\"dataframe\">\n",
       "  <thead>\n",
       "    <tr style=\"text-align: right;\">\n",
       "      <th></th>\n",
       "      <th>Year</th>\n",
       "      <th>Deaths</th>\n",
       "      <th>Age-adjusted Death Rate</th>\n",
       "    </tr>\n",
       "    <tr>\n",
       "      <th>Cause Name</th>\n",
       "      <th></th>\n",
       "      <th></th>\n",
       "      <th></th>\n",
       "    </tr>\n",
       "  </thead>\n",
       "  <tbody>\n",
       "    <tr>\n",
       "      <th>Diseases of Heart</th>\n",
       "      <td>1740069</td>\n",
       "      <td>10939923.0</td>\n",
       "      <td>174817.3</td>\n",
       "    </tr>\n",
       "    <tr>\n",
       "      <th>Cancer</th>\n",
       "      <td>1740069</td>\n",
       "      <td>9646498.0</td>\n",
       "      <td>157107.6</td>\n",
       "    </tr>\n",
       "    <tr>\n",
       "      <th>Stroke</th>\n",
       "      <td>1740069</td>\n",
       "      <td>2437998.0</td>\n",
       "      <td>40672.7</td>\n",
       "    </tr>\n",
       "    <tr>\n",
       "      <th>CLRD</th>\n",
       "      <td>1740069</td>\n",
       "      <td>2280130.0</td>\n",
       "      <td>38818.7</td>\n",
       "    </tr>\n",
       "    <tr>\n",
       "      <th>Unintentional Injuries</th>\n",
       "      <td>1740069</td>\n",
       "      <td>2016510.0</td>\n",
       "      <td>36713.7</td>\n",
       "    </tr>\n",
       "    <tr>\n",
       "      <th>Alzheimer's disease</th>\n",
       "      <td>1740069</td>\n",
       "      <td>1257309.0</td>\n",
       "      <td>21042.8</td>\n",
       "    </tr>\n",
       "    <tr>\n",
       "      <th>Diabetes</th>\n",
       "      <td>1740069</td>\n",
       "      <td>1236321.0</td>\n",
       "      <td>20459.0</td>\n",
       "    </tr>\n",
       "    <tr>\n",
       "      <th>Influenza and pneumonia</th>\n",
       "      <td>1740069</td>\n",
       "      <td>987432.0</td>\n",
       "      <td>16181.1</td>\n",
       "    </tr>\n",
       "    <tr>\n",
       "      <th>Kidney Disease</th>\n",
       "      <td>1740069</td>\n",
       "      <td>757934.0</td>\n",
       "      <td>12315.0</td>\n",
       "    </tr>\n",
       "    <tr>\n",
       "      <th>Suicide</th>\n",
       "      <td>1740069</td>\n",
       "      <td>604878.0</td>\n",
       "      <td>11383.2</td>\n",
       "    </tr>\n",
       "  </tbody>\n",
       "</table>\n",
       "</div>"
      ],
      "text/plain": [
       "                            Year      Deaths  Age-adjusted Death Rate\n",
       "Cause Name                                                           \n",
       "Diseases of Heart        1740069  10939923.0                 174817.3\n",
       "Cancer                   1740069   9646498.0                 157107.6\n",
       "Stroke                   1740069   2437998.0                  40672.7\n",
       "CLRD                     1740069   2280130.0                  38818.7\n",
       "Unintentional Injuries   1740069   2016510.0                  36713.7\n",
       "Alzheimer's disease      1740069   1257309.0                  21042.8\n",
       "Diabetes                 1740069   1236321.0                  20459.0\n",
       "Influenza and pneumonia  1740069    987432.0                  16181.1\n",
       "Kidney Disease           1740069    757934.0                  12315.0\n",
       "Suicide                  1740069    604878.0                  11383.2"
      ]
     },
     "execution_count": 43,
     "metadata": {},
     "output_type": "execute_result"
    }
   ],
   "source": [
    "a1 = a.groupby(['Cause Name']).sum()\n",
    "a1.sort_values('Deaths',ascending =False, inplace =True)\n",
    "a1.head(10)\n"
   ]
  },
  {
   "cell_type": "code",
   "execution_count": 45,
   "metadata": {},
   "outputs": [
    {
     "data": {
      "text/plain": [
       "Text(0, 0.5, 'Number of Deaths')"
      ]
     },
     "execution_count": 45,
     "metadata": {},
     "output_type": "execute_result"
    },
    {
     "data": {
      "image/png": "[encoded data removed]",
      "text/plain": [
       "<Figure size 432x288 with 1 Axes>"
      ]
     },
     "metadata": {
      "needs_background": "light"
     },
     "output_type": "display_data"
    }
   ],
   "source": [
    "a1['Deaths'].head(10).plot.bar(title = 'Top 10 causes of deaths')\n",
    "plt.ylabel('Number of Deaths')"
   ]
  },
  {
   "cell_type": "code",
   "execution_count": null,
   "metadata": {},
   "outputs": [],
   "source": []
  }
 ],
 "metadata": {
  "kernelspec": {
   "display_name": "Python 3",
   "language": "python",
   "name": "python3"
  },
  "language_info": {
   "codemirror_mode": {
    "name": "ipython",
    "version": 3
   },
   "file_extension": ".py",
   "mimetype": "text/x-python",
   "name": "python",
   "nbconvert_exporter": "python",
   "pygments_lexer": "ipython3",
   "version": "3.8.5"
  }
 },
 "nbformat": 4,
 "nbformat_minor": 4
}
